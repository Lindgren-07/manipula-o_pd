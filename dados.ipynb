{
 "cells": [
  {
   "cell_type": "code",
   "execution_count": 1,
   "metadata": {},
   "outputs": [],
   "source": [
    "import pandas as pd"
   ]
  },
  {
   "cell_type": "code",
   "execution_count": 2,
   "metadata": {},
   "outputs": [],
   "source": [
    "df = pd.read_csv('./2020.02.26 - PLANILHA DO TERMO DE COLABORAÇÃO APAEs - 2020_0.csv',sep=';')"
   ]
  },
  {
   "cell_type": "markdown",
   "metadata": {},
   "source": [
    "Limpeza de dados\n"
   ]
  },
  {
   "cell_type": "code",
   "execution_count": 3,
   "metadata": {},
   "outputs": [
    {
     "data": {
      "text/html": [
       "<div>\n",
       "<style scoped>\n",
       "    .dataframe tbody tr th:only-of-type {\n",
       "        vertical-align: middle;\n",
       "    }\n",
       "\n",
       "    .dataframe tbody tr th {\n",
       "        vertical-align: top;\n",
       "    }\n",
       "\n",
       "    .dataframe thead th {\n",
       "        text-align: right;\n",
       "    }\n",
       "</style>\n",
       "<table border=\"1\" class=\"dataframe\">\n",
       "  <thead>\n",
       "    <tr style=\"text-align: right;\">\n",
       "      <th></th>\n",
       "      <th>ORD</th>\n",
       "      <th>Nº Processo</th>\n",
       "      <th>Unidade Gestora</th>\n",
       "      <th>Conveniado</th>\n",
       "      <th>CNPJ da entidade</th>\n",
       "      <th>Status do Termo de Colaboração</th>\n",
       "      <th>Data da celebração</th>\n",
       "      <th>Início do aditamento</th>\n",
       "      <th>Fim do aditamento</th>\n",
       "      <th>Qntd. alunos D.I</th>\n",
       "      <th>Qntd. Alunos T.E.A</th>\n",
       "      <th>Total de alunos (D.I+T.E.A)</th>\n",
       "      <th>Valor total</th>\n",
       "    </tr>\n",
       "  </thead>\n",
       "  <tbody>\n",
       "    <tr>\n",
       "      <th>0</th>\n",
       "      <td>1.0</td>\n",
       "      <td>1213122/18</td>\n",
       "      <td>080261 - DIR.ENS.REGIAO CENTRO</td>\n",
       "      <td>AUMA-ASSOCIAÇÃO DOS AMIGOS DA CRIANÇA AUTISTA</td>\n",
       "      <td>38.893.038/0001-03</td>\n",
       "      <td>Em Andamento</td>\n",
       "      <td>16/01/2019</td>\n",
       "      <td>01/01/2020</td>\n",
       "      <td>31/12/2020</td>\n",
       "      <td>0.0</td>\n",
       "      <td>53.0</td>\n",
       "      <td>53.0</td>\n",
       "      <td>R$ 716.295,00</td>\n",
       "    </tr>\n",
       "    <tr>\n",
       "      <th>1</th>\n",
       "      <td>2.0</td>\n",
       "      <td>1794588/18</td>\n",
       "      <td>080261 - DIR.ENS.REGIAO CENTRO</td>\n",
       "      <td>ASSOC. BRAS. DE ASSIST. E DESENV.SOCIAL-ABADS</td>\n",
       "      <td>60.805.975/0001-19</td>\n",
       "      <td>Em Andamento</td>\n",
       "      <td>01/01/2016</td>\n",
       "      <td>01/01/2020</td>\n",
       "      <td>31/12/2020</td>\n",
       "      <td>53.0</td>\n",
       "      <td>125.0</td>\n",
       "      <td>178.0</td>\n",
       "      <td>R$ 1.937.994,29</td>\n",
       "    </tr>\n",
       "    <tr>\n",
       "      <th>2</th>\n",
       "      <td>3.0</td>\n",
       "      <td>04107/16</td>\n",
       "      <td>080262 - DIR.ENS.REGIAO CENTRO OESTE</td>\n",
       "      <td>A.A.C.D. - A.A. A CRIANÇA DEFICIENTE</td>\n",
       "      <td>60.979.457/0001-11</td>\n",
       "      <td>Em Andamento</td>\n",
       "      <td>30/12/2016</td>\n",
       "      <td>01/01/2020</td>\n",
       "      <td>31/12/2020</td>\n",
       "      <td>89.0</td>\n",
       "      <td>0.0</td>\n",
       "      <td>89.0</td>\n",
       "      <td>R$ 417.492,77</td>\n",
       "    </tr>\n",
       "    <tr>\n",
       "      <th>3</th>\n",
       "      <td>4.0</td>\n",
       "      <td>2909/16</td>\n",
       "      <td>080263 - DIR.ENS.REGIAO CENTRO SUL</td>\n",
       "      <td>AHIMSA ASSOCIACAO EDUCACIONAL P/MULTIPLA DEFI</td>\n",
       "      <td>65.513.806/0001-29</td>\n",
       "      <td>Em Andamento</td>\n",
       "      <td>01/01/2016</td>\n",
       "      <td>01/01/2020</td>\n",
       "      <td>31/12/2020</td>\n",
       "      <td>39.0</td>\n",
       "      <td>3.0</td>\n",
       "      <td>42.0</td>\n",
       "      <td>R$ 223.491,27</td>\n",
       "    </tr>\n",
       "    <tr>\n",
       "      <th>4</th>\n",
       "      <td>5.0</td>\n",
       "      <td>2911/16</td>\n",
       "      <td>080263 - DIR.ENS.REGIAO CENTRO SUL</td>\n",
       "      <td>AMA - ASSOC. DE AMIGOS DO AUTISTA</td>\n",
       "      <td>52.802.295/0001-13</td>\n",
       "      <td>Em Andamento</td>\n",
       "      <td>01/01/2016</td>\n",
       "      <td>01/01/2020</td>\n",
       "      <td>31/12/2020</td>\n",
       "      <td>0.0</td>\n",
       "      <td>193.0</td>\n",
       "      <td>193.0</td>\n",
       "      <td>R$ 2.608.395,00</td>\n",
       "    </tr>\n",
       "  </tbody>\n",
       "</table>\n",
       "</div>"
      ],
      "text/plain": [
       "   ORD Nº Processo                       Unidade Gestora  \\\n",
       "0  1.0  1213122/18        080261 - DIR.ENS.REGIAO CENTRO   \n",
       "1  2.0  1794588/18        080261 - DIR.ENS.REGIAO CENTRO   \n",
       "2  3.0    04107/16  080262 - DIR.ENS.REGIAO CENTRO OESTE   \n",
       "3  4.0     2909/16    080263 - DIR.ENS.REGIAO CENTRO SUL   \n",
       "4  5.0     2911/16    080263 - DIR.ENS.REGIAO CENTRO SUL   \n",
       "\n",
       "                                      Conveniado    CNPJ da entidade  \\\n",
       "0  AUMA-ASSOCIAÇÃO DOS AMIGOS DA CRIANÇA AUTISTA  38.893.038/0001-03   \n",
       "1  ASSOC. BRAS. DE ASSIST. E DESENV.SOCIAL-ABADS  60.805.975/0001-19   \n",
       "2           A.A.C.D. - A.A. A CRIANÇA DEFICIENTE  60.979.457/0001-11   \n",
       "3  AHIMSA ASSOCIACAO EDUCACIONAL P/MULTIPLA DEFI  65.513.806/0001-29   \n",
       "4              AMA - ASSOC. DE AMIGOS DO AUTISTA  52.802.295/0001-13   \n",
       "\n",
       "  Status do Termo de Colaboração Data da celebração  Início do aditamento  \\\n",
       "0                   Em Andamento          16/01/2019           01/01/2020   \n",
       "1                   Em Andamento          01/01/2016           01/01/2020   \n",
       "2                   Em Andamento          30/12/2016           01/01/2020   \n",
       "3                   Em Andamento          01/01/2016           01/01/2020   \n",
       "4                   Em Andamento          01/01/2016           01/01/2020   \n",
       "\n",
       "  Fim do aditamento  Qntd. alunos D.I  Qntd. Alunos T.E.A  \\\n",
       "0        31/12/2020               0.0                53.0   \n",
       "1        31/12/2020              53.0               125.0   \n",
       "2        31/12/2020              89.0                 0.0   \n",
       "3        31/12/2020              39.0                 3.0   \n",
       "4        31/12/2020               0.0               193.0   \n",
       "\n",
       "   Total de alunos (D.I+T.E.A)      Valor total  \n",
       "0                         53.0    R$ 716.295,00  \n",
       "1                        178.0  R$ 1.937.994,29  \n",
       "2                         89.0    R$ 417.492,77  \n",
       "3                         42.0    R$ 223.491,27  \n",
       "4                        193.0  R$ 2.608.395,00  "
      ]
     },
     "execution_count": 3,
     "metadata": {},
     "output_type": "execute_result"
    }
   ],
   "source": [
    "df.head()"
   ]
  },
  {
   "cell_type": "code",
   "execution_count": 4,
   "metadata": {},
   "outputs": [],
   "source": [
    "df['Total de alunos (D.I+T.E.A)'] = pd.to_numeric(df['Total de alunos (D.I+T.E.A)'],errors='coerce')"
   ]
  },
  {
   "cell_type": "code",
   "execution_count": 5,
   "metadata": {},
   "outputs": [],
   "source": [
    "df['Qntd. Alunos T.E.A'] = pd.to_numeric(df['Qntd. Alunos T.E.A'],errors='coerce')"
   ]
  },
  {
   "cell_type": "code",
   "execution_count": 6,
   "metadata": {},
   "outputs": [],
   "source": [
    "df['Fim do aditamento'] = pd.to_datetime(df['Fim do aditamento'],errors='coerce')"
   ]
  },
  {
   "cell_type": "code",
   "execution_count": 7,
   "metadata": {},
   "outputs": [],
   "source": [
    "df['Início do aditamento'] = pd.to_datetime(df['Início do aditamento'],errors='coerce')"
   ]
  },
  {
   "cell_type": "code",
   "execution_count": 8,
   "metadata": {},
   "outputs": [
    {
     "data": {
      "text/html": [
       "<div>\n",
       "<style scoped>\n",
       "    .dataframe tbody tr th:only-of-type {\n",
       "        vertical-align: middle;\n",
       "    }\n",
       "\n",
       "    .dataframe tbody tr th {\n",
       "        vertical-align: top;\n",
       "    }\n",
       "\n",
       "    .dataframe thead th {\n",
       "        text-align: right;\n",
       "    }\n",
       "</style>\n",
       "<table border=\"1\" class=\"dataframe\">\n",
       "  <thead>\n",
       "    <tr style=\"text-align: right;\">\n",
       "      <th></th>\n",
       "      <th>ORD</th>\n",
       "      <th>Nº Processo</th>\n",
       "      <th>Unidade Gestora</th>\n",
       "      <th>Conveniado</th>\n",
       "      <th>CNPJ da entidade</th>\n",
       "      <th>Status do Termo de Colaboração</th>\n",
       "      <th>Data da celebração</th>\n",
       "      <th>Início do aditamento</th>\n",
       "      <th>Fim do aditamento</th>\n",
       "      <th>Qntd. alunos D.I</th>\n",
       "      <th>Qntd. Alunos T.E.A</th>\n",
       "      <th>Total de alunos (D.I+T.E.A)</th>\n",
       "      <th>Valor total</th>\n",
       "    </tr>\n",
       "  </thead>\n",
       "  <tbody>\n",
       "    <tr>\n",
       "      <th>0</th>\n",
       "      <td>1.0</td>\n",
       "      <td>1213122/18</td>\n",
       "      <td>080261 - DIR.ENS.REGIAO CENTRO</td>\n",
       "      <td>AUMA-ASSOCIAÇÃO DOS AMIGOS DA CRIANÇA AUTISTA</td>\n",
       "      <td>38.893.038/0001-03</td>\n",
       "      <td>Em Andamento</td>\n",
       "      <td>16/01/2019</td>\n",
       "      <td>2020-01-01</td>\n",
       "      <td>2020-12-31</td>\n",
       "      <td>0.0</td>\n",
       "      <td>53.0</td>\n",
       "      <td>53.0</td>\n",
       "      <td>R$ 716.295,00</td>\n",
       "    </tr>\n",
       "    <tr>\n",
       "      <th>1</th>\n",
       "      <td>2.0</td>\n",
       "      <td>1794588/18</td>\n",
       "      <td>080261 - DIR.ENS.REGIAO CENTRO</td>\n",
       "      <td>ASSOC. BRAS. DE ASSIST. E DESENV.SOCIAL-ABADS</td>\n",
       "      <td>60.805.975/0001-19</td>\n",
       "      <td>Em Andamento</td>\n",
       "      <td>01/01/2016</td>\n",
       "      <td>2020-01-01</td>\n",
       "      <td>2020-12-31</td>\n",
       "      <td>53.0</td>\n",
       "      <td>125.0</td>\n",
       "      <td>178.0</td>\n",
       "      <td>R$ 1.937.994,29</td>\n",
       "    </tr>\n",
       "    <tr>\n",
       "      <th>2</th>\n",
       "      <td>3.0</td>\n",
       "      <td>04107/16</td>\n",
       "      <td>080262 - DIR.ENS.REGIAO CENTRO OESTE</td>\n",
       "      <td>A.A.C.D. - A.A. A CRIANÇA DEFICIENTE</td>\n",
       "      <td>60.979.457/0001-11</td>\n",
       "      <td>Em Andamento</td>\n",
       "      <td>30/12/2016</td>\n",
       "      <td>2020-01-01</td>\n",
       "      <td>2020-12-31</td>\n",
       "      <td>89.0</td>\n",
       "      <td>0.0</td>\n",
       "      <td>89.0</td>\n",
       "      <td>R$ 417.492,77</td>\n",
       "    </tr>\n",
       "    <tr>\n",
       "      <th>3</th>\n",
       "      <td>4.0</td>\n",
       "      <td>2909/16</td>\n",
       "      <td>080263 - DIR.ENS.REGIAO CENTRO SUL</td>\n",
       "      <td>AHIMSA ASSOCIACAO EDUCACIONAL P/MULTIPLA DEFI</td>\n",
       "      <td>65.513.806/0001-29</td>\n",
       "      <td>Em Andamento</td>\n",
       "      <td>01/01/2016</td>\n",
       "      <td>2020-01-01</td>\n",
       "      <td>2020-12-31</td>\n",
       "      <td>39.0</td>\n",
       "      <td>3.0</td>\n",
       "      <td>42.0</td>\n",
       "      <td>R$ 223.491,27</td>\n",
       "    </tr>\n",
       "    <tr>\n",
       "      <th>4</th>\n",
       "      <td>5.0</td>\n",
       "      <td>2911/16</td>\n",
       "      <td>080263 - DIR.ENS.REGIAO CENTRO SUL</td>\n",
       "      <td>AMA - ASSOC. DE AMIGOS DO AUTISTA</td>\n",
       "      <td>52.802.295/0001-13</td>\n",
       "      <td>Em Andamento</td>\n",
       "      <td>01/01/2016</td>\n",
       "      <td>2020-01-01</td>\n",
       "      <td>2020-12-31</td>\n",
       "      <td>0.0</td>\n",
       "      <td>193.0</td>\n",
       "      <td>193.0</td>\n",
       "      <td>R$ 2.608.395,00</td>\n",
       "    </tr>\n",
       "  </tbody>\n",
       "</table>\n",
       "</div>"
      ],
      "text/plain": [
       "   ORD Nº Processo                       Unidade Gestora  \\\n",
       "0  1.0  1213122/18        080261 - DIR.ENS.REGIAO CENTRO   \n",
       "1  2.0  1794588/18        080261 - DIR.ENS.REGIAO CENTRO   \n",
       "2  3.0    04107/16  080262 - DIR.ENS.REGIAO CENTRO OESTE   \n",
       "3  4.0     2909/16    080263 - DIR.ENS.REGIAO CENTRO SUL   \n",
       "4  5.0     2911/16    080263 - DIR.ENS.REGIAO CENTRO SUL   \n",
       "\n",
       "                                      Conveniado    CNPJ da entidade  \\\n",
       "0  AUMA-ASSOCIAÇÃO DOS AMIGOS DA CRIANÇA AUTISTA  38.893.038/0001-03   \n",
       "1  ASSOC. BRAS. DE ASSIST. E DESENV.SOCIAL-ABADS  60.805.975/0001-19   \n",
       "2           A.A.C.D. - A.A. A CRIANÇA DEFICIENTE  60.979.457/0001-11   \n",
       "3  AHIMSA ASSOCIACAO EDUCACIONAL P/MULTIPLA DEFI  65.513.806/0001-29   \n",
       "4              AMA - ASSOC. DE AMIGOS DO AUTISTA  52.802.295/0001-13   \n",
       "\n",
       "  Status do Termo de Colaboração Data da celebração  Início do aditamento  \\\n",
       "0                   Em Andamento          16/01/2019           2020-01-01   \n",
       "1                   Em Andamento          01/01/2016           2020-01-01   \n",
       "2                   Em Andamento          30/12/2016           2020-01-01   \n",
       "3                   Em Andamento          01/01/2016           2020-01-01   \n",
       "4                   Em Andamento          01/01/2016           2020-01-01   \n",
       "\n",
       "  Fim do aditamento  Qntd. alunos D.I  Qntd. Alunos T.E.A  \\\n",
       "0        2020-12-31               0.0                53.0   \n",
       "1        2020-12-31              53.0               125.0   \n",
       "2        2020-12-31              89.0                 0.0   \n",
       "3        2020-12-31              39.0                 3.0   \n",
       "4        2020-12-31               0.0               193.0   \n",
       "\n",
       "   Total de alunos (D.I+T.E.A)      Valor total  \n",
       "0                         53.0    R$ 716.295,00  \n",
       "1                        178.0  R$ 1.937.994,29  \n",
       "2                         89.0    R$ 417.492,77  \n",
       "3                         42.0    R$ 223.491,27  \n",
       "4                        193.0  R$ 2.608.395,00  "
      ]
     },
     "execution_count": 8,
     "metadata": {},
     "output_type": "execute_result"
    }
   ],
   "source": [
    "df.head()"
   ]
  },
  {
   "cell_type": "code",
   "execution_count": 9,
   "metadata": {},
   "outputs": [
    {
     "data": {
      "text/plain": [
       "(286, 13)"
      ]
     },
     "execution_count": 9,
     "metadata": {},
     "output_type": "execute_result"
    }
   ],
   "source": [
    "df.shape"
   ]
  },
  {
   "cell_type": "code",
   "execution_count": 10,
   "metadata": {},
   "outputs": [],
   "source": [
    "dados_filtrados = df.dropna()"
   ]
  },
  {
   "cell_type": "code",
   "execution_count": 11,
   "metadata": {},
   "outputs": [
    {
     "data": {
      "text/plain": [
       "(285, 13)"
      ]
     },
     "execution_count": 11,
     "metadata": {},
     "output_type": "execute_result"
    }
   ],
   "source": [
    "dados_filtrados.shape"
   ]
  }
 ],
 "metadata": {
  "kernelspec": {
   "display_name": "Python 3",
   "language": "python",
   "name": "python3"
  },
  "language_info": {
   "codemirror_mode": {
    "name": "ipython",
    "version": 3
   },
   "file_extension": ".py",
   "mimetype": "text/x-python",
   "name": "python",
   "nbconvert_exporter": "python",
   "pygments_lexer": "ipython3",
   "version": "3.7.8"
  }
 },
 "nbformat": 4,
 "nbformat_minor": 2
}
